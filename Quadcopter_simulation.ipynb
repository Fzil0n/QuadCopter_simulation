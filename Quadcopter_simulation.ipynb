{
 "cells": [
  {
   "cell_type": "markdown",
   "metadata": {},
   "source": [
    "# Quadcopter Simulation\n",
    "by group 3"
   ]
  },
  {
   "cell_type": "markdown",
   "metadata": {},
   "source": [
    "## 1.Import related package"
   ]
  },
  {
   "cell_type": "code",
   "execution_count": null,
   "metadata": {},
   "outputs": [],
   "source": [
    "from QuadcopterDynamics import QuadcopterDynamics\n",
    "from simtest import Quadcopter3DVisualization, QuadcopterController\n",
    "from SlidebarClass import MotorSpeedSliders\n",
    "import time\n",
    "import numpy as np\n",
    "import math"
   ]
  },
  {
   "cell_type": "markdown",
   "metadata": {},
   "source": [
    "## 2.Assign quadcopter's parameters\n",
    "g_val = gravitational acceleration\n",
    "<br>\n",
    "m_val = mass\n",
    "<br>\n",
    "l_val = lengh between propeller\n",
    "<br>\n",
    "K_val = lift constant\n",
    "<br>\n",
    "A_x_val = air resistant in x-axis\n",
    "<br>\n",
    "A_y_val = air resistant in y-axis\n",
    "<br>\n",
    "A_z_val = air resistant in z-axis\n",
    "<br>\n",
    "b_val = Drag constant\n",
    "<br>\n",
    "Ixx_val = innertial about x-axis\n",
    "<br>\n",
    "Iyy_val = innertial about y-axis\n",
    "<br>\n",
    "Izz_val = innertial about z-axis"
   ]
  },
  {
   "cell_type": "code",
   "execution_count": null,
   "metadata": {},
   "outputs": [],
   "source": [
    "g_val = 9.81 \n",
    "m_val = 0.468\n",
    "l_val = 0.225\n",
    "K_val = 2.980*1e-6\n",
    "A_x_val = 0.0\n",
    "A_y_val = 0.0\n",
    "A_z_val = 0.0\n",
    "b_val = 1.14*1e-7\n",
    "Ixx_val = 4.856*1e-3\n",
    "Iyy_val = 4.856*1e-3\n",
    "Izz_val = 8.801*1e-3"
   ]
  },
  {
   "cell_type": "markdown",
   "metadata": {},
   "source": [
    "## 3.Main loop"
   ]
  },
  {
   "cell_type": "code",
   "execution_count": null,
   "metadata": {},
   "outputs": [],
   "source": [
    "quadcopter = QuadcopterDynamics(g_val, m_val, l_val, K_val, A_x_val, A_y_val, A_z_val, b_val, Ixx_val, Iyy_val, Izz_val)\n",
    "dt = 0.01 #100 Hz \n",
    "quadcopter.set_dt(dt) \n",
    "\n",
    "# for manual\n",
    "# [m1 m2 m3 m4]\n",
    "# om = 1.075\n",
    "# spd = om*math.sqrt(1/K_val)\n",
    "# dspd = 0.05*spd\n",
    "# #spin about z-axis and move +z\n",
    "# omega = [spd-(0.5*dspd), spd+(0.5*dspd), spd-(0.5*dspd), spd+(0.5*dspd)]\n",
    "# #spin about x-axis\n",
    "# omega = [spd, spd-dspd, spd, spd]\n",
    "# #spin about y-axis\n",
    "# omega = [spd-dspd, spd, spd, spd]\n",
    "# omega = [620.6108 , 620.6108, 620.6108-10, 620.6108] \n",
    "# print(\"omega\", omega)\n",
    "\n",
    "# initial vaule\n",
    "omega = [0.0, 0.0, 0.0, 0.0] #motor's speed \n",
    "deltas = np.zeros(6,)\n",
    "state = \"init_state\"\n",
    "sim_time = 500 # simulation for 5 sec\n",
    "\n",
    "myTimer = time.time()\n",
    "print(\"Start time : \",myTimer)\n",
    "step = 0\n",
    "timeStamp = time.time() + dt\n",
    "while True:\n",
    "    if(time.time()-timeStamp >= 0):\n",
    "        print(\"========trick=======\")\n",
    "        print(\"State :\",state)\n",
    "        if step >= sim_time:\n",
    "            print(\"Start time : \",myTimer)\n",
    "            print(\"Stop time : \", time.time())\n",
    "            break\n",
    "        else:\n",
    "            match state:\n",
    "                case \"init_state\":\n",
    "                    state = \"MotorSpeedSlidersConstruct_state\"\n",
    "                    \n",
    "                case \"MotorSpeedSlidersConstruct_state\":\n",
    "                    motor_speed_sliders = MotorSpeedSliders()\n",
    "                    state = \"input_state\"\n",
    "                    \n",
    "                case \"input_state\":\n",
    "                    motor_speed_sliders.run()\n",
    "                    if(motor_speed_sliders.enter_press == True):\n",
    "                        omega = motor_speed_sliders.get_speed()\n",
    "                        motor_speed_sliders.close_window()\n",
    "                        state = \"VisualizatioConsrtruct_state\"\n",
    "                        del motor_speed_sliders #destructor\n",
    "                        \n",
    "                case \"VisualizatioConsrtruct_state\":\n",
    "                    quadcopter_visualization = Quadcopter3DVisualization()\n",
    "                    quadcopter_controller = QuadcopterController(quadcopter_visualization)\n",
    "                    state = \"simulation_state\"\n",
    "                    \n",
    "                case \"simulation_state\":\n",
    "                    # quadcopter 3Dvisualization\n",
    "                    quadcopter_controller.update_quadcopter_and_plot(deltas=deltas)\n",
    "                    step = step+1\n",
    "                    print(\"Step number : \",step)     \n",
    "                    quadcopter.calculate_A_matrix(phi_val=quadcopter.orientation[0], theta_val=quadcopter.orientation[1])\n",
    "                    quadcopter.calculate_B_matrix(omega=omega, orientation=quadcopter.orientation, angularVelocity=quadcopter.angularVelo, linearVelocity=quadcopter.linearVelo)\n",
    "                    acc = quadcopter.calculate_x_solution()\n",
    "                    deltas = quadcopter.updateState()     \n",
    "                    print(\"Deltas : \",deltas)     \n",
    "                    quadcopter.dynamicDebugger()              \n",
    "        timeStamp = time.time() + dt    "
   ]
  }
 ],
 "metadata": {
  "language_info": {
   "name": "python"
  }
 },
 "nbformat": 4,
 "nbformat_minor": 2
}
